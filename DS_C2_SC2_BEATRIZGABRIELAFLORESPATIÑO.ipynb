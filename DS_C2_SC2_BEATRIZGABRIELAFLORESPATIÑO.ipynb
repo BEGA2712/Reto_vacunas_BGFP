{
  "nbformat": 4,
  "nbformat_minor": 0,
  "metadata": {
    "colab": {
      "provenance": [],
      "authorship_tag": "ABX9TyN7RXzjjVwI4Nbz8NCNspuO",
      "include_colab_link": true
    },
    "kernelspec": {
      "name": "python3",
      "display_name": "Python 3"
    },
    "language_info": {
      "name": "python"
    }
  },
  "cells": [
    {
      "cell_type": "markdown",
      "metadata": {
        "id": "view-in-github",
        "colab_type": "text"
      },
      "source": [
        "<a href=\"https://colab.research.google.com/github/BEGA2712/Reto_vacunas_BGFP/blob/main/DS_C2_SC2_BEATRIZGABRIELAFLORESPATI%C3%91O.ipynb\" target=\"_parent\"><img src=\"https://colab.research.google.com/assets/colab-badge.svg\" alt=\"Open In Colab\"/></a>"
      ]
    },
    {
      "cell_type": "code",
      "source": [
        "# Importar la librería pandas\n",
        "import pandas as pd\n",
        "archivo_csv = 'Vacunas.csv'\n"
      ],
      "metadata": {
        "id": "kWj1e9n8HJOw"
      },
      "execution_count": 2,
      "outputs": []
    },
    {
      "cell_type": "code",
      "source": [
        "# a.Extraer la información del archivo.\n",
        "try:\n",
        "    df = pd.read_csv(archivo_csv, parse_dates=['date'])\n",
        "    print(\"Archivo CSV leído exitosamente.\")\n",
        "except FileNotFoundError:\n",
        "    print(f\"Error: El archivo '{archivo_csv}' no fue encontrado.\")\n",
        "    print(\"Por favor, asegúrate de que el nombre del archivo es correcto y que está en la ubicación esperada en Colab.\")\n",
        "    exit()"
      ],
      "metadata": {
        "colab": {
          "base_uri": "https://localhost:8080/"
        },
        "id": "STA8_bVQVhCJ",
        "outputId": "9a98cecb-313f-4816-ccc5-b216517f0183"
      },
      "execution_count": 3,
      "outputs": [
        {
          "output_type": "stream",
          "name": "stdout",
          "text": [
            "Error: El archivo 'Vacunas.csv' no fue encontrado.\n",
            "Por favor, asegúrate de que el nombre del archivo es correcto y que está en la ubicación esperada en Colab.\n"
          ]
        }
      ]
    },
    {
      "cell_type": "code",
      "source": [
        "# b. Mostrar la estructura y tipos de datos.\n",
        "print(\"Estructura y tipo de datos del dataframe\")\n",
        "df.info()\n",
        "if df['date'].dtype == 'datetime64[ns]':\n",
        "    print(\"Confirmación: La columna 'date' es del tipo datetime64.\")\n",
        "else:\n",
        "    print(\"Advertencia: La columna 'date' no es del tipo datetime64. Algo salió mal en la lectura o conversión inicial.\")\n",
        "print(\"\\nPrimeras 5 filas del DataFrame:\")\n",
        "print(df.head())"
      ],
      "metadata": {
        "colab": {
          "base_uri": "https://localhost:8080/"
        },
        "id": "taPOg17TaYyB",
        "outputId": "50a32269-1cee-4378-cb8c-a092d605cbb7"
      },
      "execution_count": null,
      "outputs": [
        {
          "output_type": "stream",
          "name": "stdout",
          "text": [
            "Estructura y tipo de datos del dataframe\n",
            "<class 'pandas.core.frame.DataFrame'>\n",
            "RangeIndex: 86512 entries, 0 to 86511\n",
            "Data columns (total 15 columns):\n",
            " #   Column                               Non-Null Count  Dtype         \n",
            "---  ------                               --------------  -----         \n",
            " 0   country                              86512 non-null  object        \n",
            " 1   iso_code                             86512 non-null  object        \n",
            " 2   date                                 86512 non-null  datetime64[ns]\n",
            " 3   total_vaccinations                   43607 non-null  float64       \n",
            " 4   people_vaccinated                    41294 non-null  float64       \n",
            " 5   people_fully_vaccinated              38802 non-null  float64       \n",
            " 6   daily_vaccinations_raw               35362 non-null  float64       \n",
            " 7   daily_vaccinations                   86213 non-null  float64       \n",
            " 8   total_vaccinations_per_hundred       43607 non-null  float64       \n",
            " 9   people_vaccinated_per_hundred        41294 non-null  float64       \n",
            " 10  people_fully_vaccinated_per_hundred  38802 non-null  float64       \n",
            " 11  daily_vaccinations_per_million       86213 non-null  float64       \n",
            " 12  vaccines                             86512 non-null  object        \n",
            " 13  source_name                          86512 non-null  object        \n",
            " 14  source_website                       86512 non-null  object        \n",
            "dtypes: datetime64[ns](1), float64(9), object(5)\n",
            "memory usage: 9.9+ MB\n",
            "Confirmación: La columna 'date' es del tipo datetime64.\n",
            "\n",
            "Primeras 5 filas del DataFrame:\n",
            "       country iso_code       date  total_vaccinations  people_vaccinated  \\\n",
            "0  Afghanistan      AFG 2021-02-22                 0.0                0.0   \n",
            "1  Afghanistan      AFG 2021-02-23                 NaN                NaN   \n",
            "2  Afghanistan      AFG 2021-02-24                 NaN                NaN   \n",
            "3  Afghanistan      AFG 2021-02-25                 NaN                NaN   \n",
            "4  Afghanistan      AFG 2021-02-26                 NaN                NaN   \n",
            "\n",
            "   people_fully_vaccinated  daily_vaccinations_raw  daily_vaccinations  \\\n",
            "0                      NaN                     NaN                 NaN   \n",
            "1                      NaN                     NaN              1367.0   \n",
            "2                      NaN                     NaN              1367.0   \n",
            "3                      NaN                     NaN              1367.0   \n",
            "4                      NaN                     NaN              1367.0   \n",
            "\n",
            "   total_vaccinations_per_hundred  people_vaccinated_per_hundred  \\\n",
            "0                             0.0                            0.0   \n",
            "1                             NaN                            NaN   \n",
            "2                             NaN                            NaN   \n",
            "3                             NaN                            NaN   \n",
            "4                             NaN                            NaN   \n",
            "\n",
            "   people_fully_vaccinated_per_hundred  daily_vaccinations_per_million  \\\n",
            "0                                  NaN                             NaN   \n",
            "1                                  NaN                            34.0   \n",
            "2                                  NaN                            34.0   \n",
            "3                                  NaN                            34.0   \n",
            "4                                  NaN                            34.0   \n",
            "\n",
            "                                            vaccines  \\\n",
            "0  Johnson&Johnson, Oxford/AstraZeneca, Pfizer/Bi...   \n",
            "1  Johnson&Johnson, Oxford/AstraZeneca, Pfizer/Bi...   \n",
            "2  Johnson&Johnson, Oxford/AstraZeneca, Pfizer/Bi...   \n",
            "3  Johnson&Johnson, Oxford/AstraZeneca, Pfizer/Bi...   \n",
            "4  Johnson&Johnson, Oxford/AstraZeneca, Pfizer/Bi...   \n",
            "\n",
            "                 source_name            source_website  \n",
            "0  World Health Organization  https://covid19.who.int/  \n",
            "1  World Health Organization  https://covid19.who.int/  \n",
            "2  World Health Organization  https://covid19.who.int/  \n",
            "3  World Health Organization  https://covid19.who.int/  \n",
            "4  World Health Organization  https://covid19.who.int/  \n"
          ]
        }
      ]
    },
    {
      "cell_type": "code",
      "source": [
        "# c. Determinar la cantidad de vacunas aplicadas de cada compañía.\n",
        "print(\"Cantidad agrupada de vacunas por combinación de compañías\")\n",
        "cantidad_por_compania = df.groupby('vaccines')['daily_vaccinations'].sum()\n",
        "print(cantidad_por_compania)\n",
        "\n"
      ],
      "metadata": {
        "colab": {
          "base_uri": "https://localhost:8080/"
        },
        "id": "ZlNLTadsa3gO",
        "outputId": "ed3303fb-3216-4ad0-8086-6688bcc1fe93"
      },
      "execution_count": null,
      "outputs": [
        {
          "output_type": "stream",
          "name": "stdout",
          "text": [
            "Cantidad agrupada de vacunas por combinación de compañías\n",
            "vaccines\n",
            "Abdala, Johnson&Johnson, Oxford/AstraZeneca, Pfizer/BioNTech, Soberana02, Sputnik Light, Sputnik V                              9616160.0\n",
            "Abdala, Moderna, Oxford/AstraZeneca, Pfizer/BioNTech, Sinopharm/Beijing, Sputnik V                                            201816053.0\n",
            "Abdala, Sinopharm/Beijing, Sinovac, Soberana02, Sputnik Light, Sputnik V                                                       37861146.0\n",
            "Abdala, Soberana Plus, Soberana02                                                                                              33802957.0\n",
            "COVIran Barekat, Covaxin, FAKHRAVAC, Oxford/AstraZeneca, Razi Cov Pars, Sinopharm/Beijing, Soberana02, SpikoGen, Sputnik V    146357015.0\n",
            "                                                                                                                                 ...     \n",
            "Pfizer/BioNTech, Sinovac, Turkovac                                                                                            147484328.0\n",
            "Pfizer/BioNTech, Sputnik V                                                                                                        68643.0\n",
            "QazVac, Sinopharm/Beijing, Sputnik V                                                                                           20891256.0\n",
            "Sinopharm/Beijing                                                                                                                893824.0\n",
            "Sinopharm/Beijing, Sputnik V                                                                                                   14398697.0\n",
            "Name: daily_vaccinations, Length: 84, dtype: float64\n"
          ]
        }
      ]
    },
    {
      "cell_type": "code",
      "source": [
        "#d. Obtener la cantidad de vacunas aplicadas en todo el mundo.\n",
        "print(\"La cantidad total de vacunas aplicadas en todo el mundo es:\")\n",
        "total_vacunas_mundo = df['daily_vaccinations'].sum()\n",
        "print(f\"{total_vacunas_mundo:,.0f}\")"
      ],
      "metadata": {
        "colab": {
          "base_uri": "https://localhost:8080/"
        },
        "id": "rYFGBMTybTHp",
        "outputId": "5e24ab1f-b6bc-4406-d561-69787e9d4475"
      },
      "execution_count": null,
      "outputs": [
        {
          "output_type": "stream",
          "name": "stdout",
          "text": [
            "La cantidad total de vacunas aplicadas en todo el mundo es:\n",
            "11,320,239,871\n"
          ]
        }
      ]
    },
    {
      "cell_type": "code",
      "source": [
        "# e. Calcular el promedio de vacunas aplicadas por país.\n",
        "print(\"\\El Promedio de vacunas aplicadas por país es:\")\n",
        "promedio_por_pais = df.groupby('country')['daily_vaccinations'].mean()\n",
        "print(promedio_por_pais)"
      ],
      "metadata": {
        "colab": {
          "base_uri": "https://localhost:8080/"
        },
        "id": "GGhkhhrUcLXY",
        "outputId": "f2e3e3b2-14c8-4d17-9b83-c86f137027af"
      },
      "execution_count": null,
      "outputs": [
        {
          "output_type": "stream",
          "name": "stdout",
          "text": [
            "\\El Promedio de vacunas aplicadas por país es:\n",
            "country\n",
            "Afghanistan          14610.681934\n",
            "Albania               6276.210046\n",
            "Algeria              33904.356436\n",
            "Andorra                367.716019\n",
            "Angola               44821.457584\n",
            "                         ...     \n",
            "Wales                15518.411765\n",
            "Wallis and Futuna       33.886486\n",
            "Yemen                 2556.115756\n",
            "Zambia                9649.805158\n",
            "Zimbabwe             21669.066832\n",
            "Name: daily_vaccinations, Length: 223, dtype: float64\n"
          ]
        }
      ]
    },
    {
      "cell_type": "code",
      "source": [
        "# f. Determinar la cantidad de vacunas aplicadas el día 29/01/21 en todo el mundo.\n",
        "fecha_especifica = pd.to_datetime('2021-01-29')\n",
        "df_fecha_especifica = df[df['date'] == fecha_especifica]\n",
        "vacunas_en_fecha = df_fecha_especifica['daily_vaccinations'].sum()\n",
        "\n",
        "print(f\"Cantidad de vacunas aplicadas el {fecha_especifica.strftime('%d/%m/%Y')}: {vacunas_en_fecha:,.0f}\")"
      ],
      "metadata": {
        "colab": {
          "base_uri": "https://localhost:8080/"
        },
        "id": "qTtSoVAecuXH",
        "outputId": "3ced03f0-9879-41b3-8bfd-a4868822a6a2"
      },
      "execution_count": null,
      "outputs": [
        {
          "output_type": "stream",
          "name": "stdout",
          "text": [
            "Cantidad de vacunas aplicadas el 29/01/2021: 4,884,052\n"
          ]
        }
      ]
    },
    {
      "cell_type": "code",
      "source": [
        "# g.Crear un dataframe nuevo denominado conDiferencias que contenga los datos originales y una columna derivada (diferencias) con las diferencias de aplicación entre las columnas daily_vaccionations y daily_vaccionations_raw.\n",
        "print(\"g. Creando DataFrame 'conDiferencias'\")\n",
        "conDiferencias = df.copy()\n",
        "conDiferencias['diferencias'] = conDiferencias['daily_vaccinations'] - conDiferencias['daily_vaccinations_raw']\n",
        "print(\"DataFrame 'conDiferencias' creado.\") # Puedes omitir el head() aquí si solo quieres que funcione\n"
      ],
      "metadata": {
        "colab": {
          "base_uri": "https://localhost:8080/"
        },
        "id": "nFdNjiPtbkVa",
        "outputId": "e432bbe4-dead-43e2-8f59-b8f16748365c"
      },
      "execution_count": null,
      "outputs": [
        {
          "output_type": "stream",
          "name": "stdout",
          "text": [
            "g. Creando DataFrame 'conDiferencias'\n",
            "DataFrame 'conDiferencias' creado.\n"
          ]
        }
      ]
    },
    {
      "cell_type": "code",
      "source": [
        "# h. Obtener el periodo de tiempo entre el registro con fecha más reciente y el más antiguo..\n",
        "print(\"Periodo de tiempo entre la fecha más antigua y la más reciente\")\n",
        "fecha_mas_antigua = df['date'].min()\n",
        "fecha_mas_reciente = df['date'].max()\n",
        "periodo_tiempo = fecha_mas_reciente - fecha_mas_antigua\n",
        "\n",
        "print(f\"Fecha más antigua: {fecha_mas_antigua.strftime('%Y-%m-%d')}\")\n",
        "print(f\"Fecha más reciente: {fecha_mas_reciente.strftime('%Y-%m-%d')}\")\n",
        "print(f\"Periodo de tiempo cubierto por los datos: {periodo_tiempo}\")"
      ],
      "metadata": {
        "colab": {
          "base_uri": "https://localhost:8080/"
        },
        "id": "yXtLbY_WeA5E",
        "outputId": "8ef490c1-7504-4c9b-8652-9a9de7ce754d"
      },
      "execution_count": null,
      "outputs": [
        {
          "output_type": "stream",
          "name": "stdout",
          "text": [
            "Periodo de tiempo entre la fecha más antigua y la más reciente\n",
            "Fecha más antigua: 2020-12-02\n",
            "Fecha más reciente: 2022-03-29\n",
            "Periodo de tiempo cubierto por los datos: 482 days 00:00:00\n"
          ]
        }
      ]
    },
    {
      "cell_type": "code",
      "source": [
        "# i. Crear un dataframe nuevo denominado conCantidad.\n",
        "# Este DataFrame contendrá los datos originales más una columna 'canVac'\n",
        "# con la cantidad de vacunas listadas en la columna 'vaccines' (separadas por ',').\n",
        "print(\"Creando DataFrame nuevo 'conCantidad'\")\n",
        "conCantidad = df.copy()\n",
        "\n",
        "def contar_vacunas_listadas(lista_vacunas_str):\n",
        "    if pd.isna(lista_vacunas_str):\n",
        "        return\n",
        "    return len(lista_vacunas_str.split(','))\n",
        "\n",
        "conCantidad['canVac'] = conCantidad['vaccines'].apply(contar_vacunas_listadas)\n",
        "\n",
        "print(\"DataFrame 'conCantidad' creado. Primeras filas con la nueva columna:\")\n",
        "print(conCantidad[['date', 'country', 'vaccines', 'canVac']].head())\n"
      ],
      "metadata": {
        "colab": {
          "base_uri": "https://localhost:8080/"
        },
        "id": "FpAKMF3Yegio",
        "outputId": "645debd5-fc1e-4a8f-d6f6-d26d178936f7"
      },
      "execution_count": null,
      "outputs": [
        {
          "output_type": "stream",
          "name": "stdout",
          "text": [
            "Creando DataFrame nuevo 'conCantidad'\n",
            "DataFrame 'conCantidad' creado. Primeras filas con la nueva columna:\n",
            "        date      country                                           vaccines  \\\n",
            "0 2021-02-22  Afghanistan  Johnson&Johnson, Oxford/AstraZeneca, Pfizer/Bi...   \n",
            "1 2021-02-23  Afghanistan  Johnson&Johnson, Oxford/AstraZeneca, Pfizer/Bi...   \n",
            "2 2021-02-24  Afghanistan  Johnson&Johnson, Oxford/AstraZeneca, Pfizer/Bi...   \n",
            "3 2021-02-25  Afghanistan  Johnson&Johnson, Oxford/AstraZeneca, Pfizer/Bi...   \n",
            "4 2021-02-26  Afghanistan  Johnson&Johnson, Oxford/AstraZeneca, Pfizer/Bi...   \n",
            "\n",
            "   canVac  \n",
            "0       4  \n",
            "1       4  \n",
            "2       4  \n",
            "3       4  \n",
            "4       4  \n"
          ]
        }
      ]
    },
    {
      "cell_type": "code",
      "source": [
        "# j. Generar un dataframe denominado antes20 con todos los registros que se hayan realizado antes del 20 de diciembre de 2020.\n",
        "# Contendrá todos los registros que se hayan realizado antes del 20 de diciembre de 2020\n",
        "print(\"Creando DataFrame 'antes20' (registros antes del 20/12/2020)\")\n",
        "fecha_limite = pd.to_datetime('2020-12-20')\n",
        "antes20 = df[df['date'] < fecha_limite].copy() # Usamos .copy() para evitar advertencias\n",
        "\n",
        "print(f\"DataFrame 'antes20 de diciembre' creado. Contiene {len(antes20)} filas.\")\n",
        "if not antes20.empty:\n",
        "    print(\"Primeras filas de 'antes20 de diceimbre':\")\n",
        "    print(antes20[['date', 'country', 'daily_vaccinations']].head())\n",
        "else:\n",
        "    print(\"No hay registros antes del 20 de diciembre de 2020 en el dataset.\")\n"
      ],
      "metadata": {
        "colab": {
          "base_uri": "https://localhost:8080/"
        },
        "id": "wnlzITJofABa",
        "outputId": "d1510693-be1b-484c-9e43-cb09313bf16b"
      },
      "execution_count": null,
      "outputs": [
        {
          "output_type": "stream",
          "name": "stdout",
          "text": [
            "Creando DataFrame 'antes20' (registros antes del 20/12/2020)\n",
            "DataFrame 'antes20 de diciembre' creado. Contiene 70 filas.\n",
            "Primeras filas de 'antes20 de diceimbre':\n",
            "            date country  daily_vaccinations\n",
            "13403 2020-12-14  Canada                 NaN\n",
            "13404 2020-12-15  Canada               722.0\n",
            "13405 2020-12-16  Canada              1510.0\n",
            "13406 2020-12-17  Canada              2425.0\n",
            "13407 2020-12-18  Canada              2823.0\n"
          ]
        }
      ]
    },
    {
      "cell_type": "code",
      "source": [
        "# k. Obtener un dataframe denominado pfizer.\n",
        "# Contendrá todos los registros donde se haya utilizado la vacuna Pfizer.\n",
        "print(\"Creando DataFrame 'pfizer'\")\n",
        "# Usamos .str.contains() para buscar la subcadena 'Pfizer'.\n",
        "# na=False asegura que los valores NaN en 'vaccines' no se incluyan en el resultado (se tratan como si no contuvieran 'Pfizer').\n",
        "pfizer = df[df['vaccines'].str.contains('Pfizer', na=False)].copy() # Usamos .copy()\n",
        "\n",
        "print(f\"DataFrame 'pfizer' creado. Contiene {len(pfizer)} filas.\")\n",
        "if not pfizer.empty:\n",
        "    print(\"Primeras filas de 'pfizer':\")\n",
        "    print(pfizer[['date', 'country', 'vaccines', 'daily_vaccinations']].head())\n",
        "else:\n",
        "    print(\"No hay registros que mencionen la vacuna 'Pfizer' en el dataset.\")\n"
      ],
      "metadata": {
        "colab": {
          "base_uri": "https://localhost:8080/"
        },
        "id": "d33Y1RUufRxu",
        "outputId": "f9cd2626-6b21-4236-b125-96f98c0a9d7c"
      },
      "execution_count": null,
      "outputs": [
        {
          "output_type": "stream",
          "name": "stdout",
          "text": [
            "Creando DataFrame 'pfizer'\n",
            "DataFrame 'pfizer' creado. Contiene 64193 filas.\n",
            "Primeras filas de 'pfizer':\n",
            "        date      country                                           vaccines  \\\n",
            "0 2021-02-22  Afghanistan  Johnson&Johnson, Oxford/AstraZeneca, Pfizer/Bi...   \n",
            "1 2021-02-23  Afghanistan  Johnson&Johnson, Oxford/AstraZeneca, Pfizer/Bi...   \n",
            "2 2021-02-24  Afghanistan  Johnson&Johnson, Oxford/AstraZeneca, Pfizer/Bi...   \n",
            "3 2021-02-25  Afghanistan  Johnson&Johnson, Oxford/AstraZeneca, Pfizer/Bi...   \n",
            "4 2021-02-26  Afghanistan  Johnson&Johnson, Oxford/AstraZeneca, Pfizer/Bi...   \n",
            "\n",
            "   daily_vaccinations  \n",
            "0                 NaN  \n",
            "1              1367.0  \n",
            "2              1367.0  \n",
            "3              1367.0  \n",
            "4              1367.0  \n"
          ]
        }
      ]
    },
    {
      "cell_type": "code",
      "source": [
        "# Instalar xlsxwriter\n",
        "!pip install xlsxwriter"
      ],
      "metadata": {
        "colab": {
          "base_uri": "https://localhost:8080/"
        },
        "id": "kHfcVYyAilbH",
        "outputId": "62cb838c-7204-4dca-9716-d0ddd029d769"
      },
      "execution_count": null,
      "outputs": [
        {
          "output_type": "stream",
          "name": "stdout",
          "text": [
            "Collecting xlsxwriter\n",
            "  Downloading xlsxwriter-3.2.5-py3-none-any.whl.metadata (2.7 kB)\n",
            "Downloading xlsxwriter-3.2.5-py3-none-any.whl (172 kB)\n",
            "\u001b[2K   \u001b[90m━━━━━━━━━━━━━━━━━━━━━━━━━━━━━━━━━━━━━━━━\u001b[0m \u001b[32m172.3/172.3 kB\u001b[0m \u001b[31m3.2 MB/s\u001b[0m eta \u001b[36m0:00:00\u001b[0m\n",
            "\u001b[?25hInstalling collected packages: xlsxwriter\n",
            "Successfully installed xlsxwriter-3.2.5\n"
          ]
        }
      ]
    },
    {
      "cell_type": "code",
      "source": [
        "# l. Almacenar los dataframes generados en un archivo de Excel.\n",
        "\n",
        "print(\"Guardando DataFrames en archivo Excel 'resultadosReto.xlsx'\")\n",
        "\n",
        "output_excel_path = 'resultadosReto.xlsx'\n",
        "\n",
        "try:\n",
        "    with pd.ExcelWriter(output_excel_path, engine='xlsxwriter') as writer:\n",
        "        conDiferencias.to_excel(writer, sheet_name='ConDiferencias', index=False)\n",
        "        conCantidad.to_excel(writer, sheet_name='ConCantidad', index=False)\n",
        "        antes20.to_excel(writer, sheet_name='Antes20Dic2020', index=False)\n",
        "        pfizer.to_excel(writer, sheet_name='PfizerRegistros', index=False)\n",
        "\n",
        "    print(f\"Archivo '{output_excel_path}' creado exitosamente con las hojas 'ConDiferencias', 'ConCantidad', 'Antes20Dic2020' y 'PfizerRegistros'.\")\n",
        "    print(\"Puedes descargarlo desde el panel de archivos en Colab.\")\n",
        "\n",
        "except Exception as e:\n",
        "    print(f\"Error al guardar el archivo Excel: {e}\")\n",
        "\n",
        "print(\"\\n--- Proceso completado ---\")"
      ],
      "metadata": {
        "colab": {
          "base_uri": "https://localhost:8080/"
        },
        "id": "nC7X7GRvff0r",
        "outputId": "88b93d9b-0132-4beb-c4b7-c04d66998e21"
      },
      "execution_count": null,
      "outputs": [
        {
          "output_type": "stream",
          "name": "stdout",
          "text": [
            "Guardando DataFrames en archivo Excel 'resultadosReto.xlsx'\n"
          ]
        },
        {
          "output_type": "stream",
          "name": "stderr",
          "text": [
            "/usr/local/lib/python3.11/dist-packages/xlsxwriter/worksheet.py:1267: UserWarning: Ignoring URL 'https://ais.paho.org/imm/IM_DosisAdmin-Vacunacion.asp' since it exceeds Excel's limit of 65,530 URLs per worksheet.\n",
            "  warn(\n",
            "/usr/local/lib/python3.11/dist-packages/xlsxwriter/worksheet.py:1267: UserWarning: Ignoring URL 'https://web.facebook.com/SVGHEALTH/posts/437021804887233' since it exceeds Excel's limit of 65,530 URLs per worksheet.\n",
            "  warn(\n",
            "/usr/local/lib/python3.11/dist-packages/xlsxwriter/worksheet.py:1267: UserWarning: Ignoring URL 'https://stats.pacificdata.org/vis?tm=covid&pg=0&df[ds]=SPC2&df[id]=DF_COVID_VACCINATION&df[ag]=SPC&df[vs]=1.0' since it exceeds Excel's limit of 65,530 URLs per worksheet.\n",
            "  warn(\n",
            "/usr/local/lib/python3.11/dist-packages/xlsxwriter/worksheet.py:1267: UserWarning: Ignoring URL 'https://covid19.who.int/' since it exceeds Excel's limit of 65,530 URLs per worksheet.\n",
            "  warn(\n",
            "/usr/local/lib/python3.11/dist-packages/xlsxwriter/worksheet.py:1267: UserWarning: Ignoring URL 'https://africacdc.org/covid-19-vaccination/' since it exceeds Excel's limit of 65,530 URLs per worksheet.\n",
            "  warn(\n",
            "/usr/local/lib/python3.11/dist-packages/xlsxwriter/worksheet.py:1267: UserWarning: Ignoring URL 'https://coronavirus.data.gov.uk/details/vaccinations' since it exceeds Excel's limit of 65,530 URLs per worksheet.\n",
            "  warn(\n",
            "/usr/local/lib/python3.11/dist-packages/xlsxwriter/worksheet.py:1267: UserWarning: Ignoring URL 'https://vakcinacija.gov.rs/' since it exceeds Excel's limit of 65,530 URLs per worksheet.\n",
            "  warn(\n",
            "/usr/local/lib/python3.11/dist-packages/xlsxwriter/worksheet.py:1267: UserWarning: Ignoring URL 'https://data.gov.sg/dataset/covid-19-vaccination' since it exceeds Excel's limit of 65,530 URLs per worksheet.\n",
            "  warn(\n",
            "/usr/local/lib/python3.11/dist-packages/xlsxwriter/worksheet.py:1267: UserWarning: Ignoring URL 'https://github.com/Institut-Zdravotnych-Analyz/covid19-data/raw/main/Vaccination/OpenData_Slovakia_Vaccination_AgeGroup_District.csv' since it exceeds Excel's limit of 65,530 URLs per worksheet.\n",
            "  warn(\n",
            "/usr/local/lib/python3.11/dist-packages/xlsxwriter/worksheet.py:1267: UserWarning: Ignoring URL 'https://covid-19.sledilnik.org/sl/stats' since it exceeds Excel's limit of 65,530 URLs per worksheet.\n",
            "  warn(\n",
            "/usr/local/lib/python3.11/dist-packages/xlsxwriter/worksheet.py:1267: UserWarning: Ignoring URL 'https://sacoronavirus.co.za/latest-vaccine-statistics/' since it exceeds Excel's limit of 65,530 URLs per worksheet.\n",
            "  warn(\n",
            "/usr/local/lib/python3.11/dist-packages/xlsxwriter/worksheet.py:1267: UserWarning: Ignoring URL 'https://ncv.kdca.go.kr/' since it exceeds Excel's limit of 65,530 URLs per worksheet.\n",
            "  warn(\n",
            "/usr/local/lib/python3.11/dist-packages/xlsxwriter/worksheet.py:1267: UserWarning: Ignoring URL 'https://www.mscbs.gob.es/profesionales/saludPublica/ccayes/alertasActual/nCov/documentos/Informe_Comunicacion_20220325.ods' since it exceeds Excel's limit of 65,530 URLs per worksheet.\n",
            "  warn(\n",
            "/usr/local/lib/python3.11/dist-packages/xlsxwriter/worksheet.py:1267: UserWarning: Ignoring URL 'https://www.epid.gov.lk/web/images/pdf/corona_vaccination/covid_vaccination_2022-03_22.pdf' since it exceeds Excel's limit of 65,530 URLs per worksheet.\n",
            "  warn(\n",
            "/usr/local/lib/python3.11/dist-packages/xlsxwriter/worksheet.py:1267: UserWarning: Ignoring URL 'https://laatjevaccineren.sr/' since it exceeds Excel's limit of 65,530 URLs per worksheet.\n",
            "  warn(\n",
            "/usr/local/lib/python3.11/dist-packages/xlsxwriter/worksheet.py:1267: UserWarning: Ignoring URL 'https://fohm.se/smittskydd-beredskap/utbrott/aktuella-utbrott/covid-19/statistik-och-analyser/statistik-over-registrerade-vaccinationer-covid-19/' since it exceeds Excel's limit of 65,530 URLs per worksheet.\n",
            "  warn(\n",
            "/usr/local/lib/python3.11/dist-packages/xlsxwriter/worksheet.py:1267: UserWarning: Ignoring URL 'https://opendata.swiss/en/dataset/covid-19-schweiz?detGeo=CH' since it exceeds Excel's limit of 65,530 URLs per worksheet.\n",
            "  warn(\n",
            "/usr/local/lib/python3.11/dist-packages/xlsxwriter/worksheet.py:1267: UserWarning: Ignoring URL 'https://www.cdc.gov.tw/Category/Page/9jFXNbCe-sFK9EImRRi2Og' since it exceeds Excel's limit of 65,530 URLs per worksheet.\n",
            "  warn(\n",
            "/usr/local/lib/python3.11/dist-packages/xlsxwriter/worksheet.py:1267: UserWarning: Ignoring URL 'https://ddc.moph.go.th/covid19-dashboard/' since it exceeds Excel's limit of 65,530 URLs per worksheet.\n",
            "  warn(\n",
            "/usr/local/lib/python3.11/dist-packages/xlsxwriter/worksheet.py:1267: UserWarning: Ignoring URL 'https://services3.arcgis.com/x3I4DqUw3b3MfTwQ/arcgis/rest/services/service_7a519502598f492a9094fd0ad503cf80/FeatureServer/0/query' since it exceeds Excel's limit of 65,530 URLs per worksheet.\n",
            "  warn(\n",
            "/usr/local/lib/python3.11/dist-packages/xlsxwriter/worksheet.py:1267: UserWarning: Ignoring URL 'https://web.facebook.com/santetunisie.rns.tn/posts/339797681524034?__cft__[0]=AZUiZe_DZCgQaUfW53dSTtXxKD5Vmq3M4OkNzKUMnMjzyKYqwPgH6EV-do3PCuT4TqokRZFYjLLshZ87APo1I0dbZHgTHn-95N8CB7Crpo5q1AShf3f9AQYWATKZCptNluocUhFJ8tKk3Z4cIg3qRVhQ&__tn__=%2CO%2CP-R' since it exceeds Excel's limit of 65,530 URLs per worksheet.\n",
            "  warn(\n",
            "/usr/local/lib/python3.11/dist-packages/xlsxwriter/worksheet.py:1267: UserWarning: Ignoring URL 'https://covid19asi.saglik.gov.tr/' since it exceeds Excel's limit of 65,530 URLs per worksheet.\n",
            "  warn(\n",
            "/usr/local/lib/python3.11/dist-packages/xlsxwriter/worksheet.py:1267: UserWarning: Ignoring URL 'https://health-security.rnbo.gov.ua' since it exceeds Excel's limit of 65,530 URLs per worksheet.\n",
            "  warn(\n",
            "/usr/local/lib/python3.11/dist-packages/xlsxwriter/worksheet.py:1267: UserWarning: Ignoring URL 'https://fcsc.gov.ae/en-us/Pages/Covid19/UAE-Covid-19-Updates.aspx' since it exceeds Excel's limit of 65,530 URLs per worksheet.\n",
            "  warn(\n",
            "/usr/local/lib/python3.11/dist-packages/xlsxwriter/worksheet.py:1267: UserWarning: Ignoring URL 'https://data.cdc.gov/Vaccinations/COVID-19-Vaccination-Trends-in-the-United-States-N/rh2h-3yt2' since it exceeds Excel's limit of 65,530 URLs per worksheet.\n",
            "  warn(\n",
            "/usr/local/lib/python3.11/dist-packages/xlsxwriter/worksheet.py:1267: UserWarning: Ignoring URL 'https://monitor.uruguaysevacuna.gub.uy/' since it exceeds Excel's limit of 65,530 URLs per worksheet.\n",
            "  warn(\n",
            "/usr/local/lib/python3.11/dist-packages/xlsxwriter/worksheet.py:1267: UserWarning: Ignoring URL 'https://covid19.gov.vn/ngay-23-3-so-mac-moi-covid-19-giam-con-127883-ca-tuyen-quang-bo-sung-gan-13000-f0-171220323181603013.htm' since it exceeds Excel's limit of 65,530 URLs per worksheet.\n",
            "  warn(\n",
            "/usr/local/lib/python3.11/dist-packages/xlsxwriter/worksheet.py:1267: UserWarning: Ignoring URL 'https://rtc-planning.maps.arcgis.com/apps/dashboards/3b3a01c1d8444932ba075fb44b119b63' since it exceeds Excel's limit of 65,530 URLs per worksheet.\n",
            "  warn(\n",
            "/usr/local/lib/python3.11/dist-packages/xlsxwriter/worksheet.py:1267: UserWarning: Ignoring URL 'https://www.arcgis.com/home/webmap/viewer.html?url=https://services9.arcgis.com/DnERH4rcjw7NU6lv/ArcGIS/rest/services/Vaccine_Distribution_Program/FeatureServer&source=sd' since it exceeds Excel's limit of 65,530 URLs per worksheet.\n",
            "  warn(\n"
          ]
        },
        {
          "output_type": "stream",
          "name": "stdout",
          "text": [
            "Archivo 'resultadosReto.xlsx' creado exitosamente con las hojas 'ConDiferencias', 'ConCantidad', 'Antes20Dic2020' y 'PfizerRegistros'.\n",
            "Puedes descargarlo desde el panel de archivos en Colab.\n",
            "\n",
            "--- Proceso completado ---\n"
          ]
        }
      ]
    }
  ]
}